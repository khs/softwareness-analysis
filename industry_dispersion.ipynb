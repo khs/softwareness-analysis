{
 "cells": [
  {
   "cell_type": "code",
   "execution_count": 45,
   "metadata": {},
   "outputs": [
    {
     "name": "stdout",
     "output_type": "stream",
     "text": [
      "['area', 'area_title', 'area_type', 'naics', 'naics_title', 'own_code', 'occ code', 'occ title', 'group', 'tot_emp', 'emp_prse', 'jobs_1000', 'loc_quotient', 'pct_total', 'h_mean', ' a_mean ', 'mean_prse', 'h_pct10', 'h_pct25', 'h_median', 'h_pct75', 'h_pct90', ' a_pct10 ', ' a_pct25 ', ' a_median ', ' a_pct75 ', ' a_pct90 ', 'annual', 'hourly', '']\n"
     ]
    }
   ],
   "source": [
    "# Each line after the first is either broad, medium, or narrow.\n",
    "# Also sum for each industry.\n",
    "# For the first attempt, just ignore the non-national data.\n",
    "# Descending order of size: Major, Minor, Broad, Detail.\n",
    "# For NAICS values, all are either two-digit or six digit, right-padded with 0s.\n",
    "import csv\n",
    "import re\n",
    "with open(\"all_data_M_2015.csv\",'r') as f:\n",
    "    c=csv.reader(f)\n",
    "    L=list(c)\n",
    "print(L[0])"
   ]
  },
  {
   "cell_type": "code",
   "execution_count": 41,
   "metadata": {},
   "outputs": [
    {
     "data": {
      "text/plain": [
       "dict_keys(['naics', 'occ_code', 'group', 'tot_emp', 'h_mean', 'a_mean', 'h_pay_dist', 'a_pay_dist'])"
      ]
     },
     "execution_count": 41,
     "metadata": {},
     "output_type": "execute_result"
    }
   ],
   "source": [
    "d=dict()\n",
    "def get(i,count):\n",
    "    return [j[count] for j in i[1:]]\n",
    "d['naics']= get(l,3)     #naics\n",
    "d['occ_code']= get(l,6)  #occ code, adjusted name here for consistency\n",
    "d['group']= get(l,8)     #Group\n",
    "d['tot_emp']= get(l,9)     #Total employment\n",
    "d['h_mean']]=get(l,14)    #Mean Hourly Pay\n",
    "d['a_mean']=get(l,15)    #Mean Annual Pay, adjusted the name here to remove extraneous spaces\n",
    "d[\"h_pay_dist\"]=get(l,slice(17,22)) #10th, 25th, 50th, 75th, and 90th percentile hourly pay.\n",
    "d[\"a_pay_dist\"]=get(l,slice(22,27)) #10th, 25th, 50th, 75th, and 90th percentile annual pay.\n",
    "all_jobs=[[d['naics'][n],d['occ_code'][n],d['group'][n],d['tot_emp'][n],d['h_mean'][n],d['a_mean'][n],\n",
    "          d[\"h_pay_dist\"][n],d[\"h_pay_dist\"][n]] for n in range(len(d['naics']))]\n",
    "d.keys()"
   ]
  },
  {
   "cell_type": "code",
   "execution_count": 74,
   "metadata": {},
   "outputs": [],
   "source": [
    "def select(func,universe_list=all_jobs):\n",
    "    final=list()\n",
    "    for i in universe_list:\n",
    "        if func(i):\n",
    "            final.append(i)\n",
    "    return final\n",
    "\n",
    "def match(index,value):\n",
    "    return lambda x:(x[index]==value)\n",
    "\n",
    "def access_job(occ_code,universe_dict=d,universe_list=all_jobs):\n",
    "    code_list=universe_dict['occ_code']\n",
    "    holder=[]\n",
    "    for i,q in enumerate(code_list):\n",
    "        if q==occ_code:\n",
    "            holder.append(universe_list[i])\n",
    "    return holder\n",
    "#access_job(\"13-2000\")"
   ]
  },
  {
   "cell_type": "code",
   "execution_count": 75,
   "metadata": {},
   "outputs": [
    {
     "data": {
      "text/plain": [
       "0.03248307720701991"
      ]
     },
     "execution_count": 75,
     "metadata": {},
     "output_type": "execute_result"
    }
   ],
   "source": [
    "def get_percent(job_num,naics_codes): #job_num should be a string, naics_code a list of relevant naics codes.\n",
    "    # Also works fine if you just use a single string.\n",
    "    job_rows=access_job(str(job_num))\n",
    "    denominator=0\n",
    "    for row in job_rows:\n",
    "        if row[0] in naics_codes:\n",
    "            numerator=int(re.sub(\",\",\"\",row[3]))\n",
    "            continue\n",
    "        else:\n",
    "            try:\n",
    "                denominator+=int(re.sub(\",\",\"\",row[3]))\n",
    "            except ValueError:\n",
    "                #print(row[3])\n",
    "                pass\n",
    "    return numerator/denominator\n",
    "get_percent(\"13-2000\",\"541200\") \n",
    "# Financial Specialists and Accounting, Tax Preparation, Bookkeeping, and Payroll Services"
   ]
  },
  {
   "cell_type": "code",
   "execution_count": null,
   "metadata": {},
   "outputs": [],
   "source": []
  },
  {
   "cell_type": "code",
   "execution_count": null,
   "metadata": {
    "collapsed": true
   },
   "outputs": [],
   "source": []
  }
 ],
 "metadata": {
  "kernelspec": {
   "display_name": "Python 3",
   "language": "python",
   "name": "python3"
  },
  "language_info": {
   "codemirror_mode": {
    "name": "ipython",
    "version": 3
   },
   "file_extension": ".py",
   "mimetype": "text/x-python",
   "name": "python",
   "nbconvert_exporter": "python",
   "pygments_lexer": "ipython3",
   "version": "3.6.1"
  }
 },
 "nbformat": 4,
 "nbformat_minor": 2
}
