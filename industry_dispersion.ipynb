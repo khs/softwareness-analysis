{
 "cells": [
  {
   "cell_type": "code",
   "execution_count": 1,
   "metadata": {},
   "outputs": [
    {
     "name": "stdout",
     "output_type": "stream",
     "text": [
      "['area', 'area_title', 'area_type', 'naics', 'naics_title', 'own_code', 'occ code', 'occ title', 'group', 'tot_emp', 'emp_prse', 'jobs_1000', 'loc_quotient', 'pct_total', 'h_mean', ' a_mean ', 'mean_prse', 'h_pct10', 'h_pct25', 'h_median', 'h_pct75', 'h_pct90', ' a_pct10 ', ' a_pct25 ', ' a_median ', ' a_pct75 ', ' a_pct90 ', 'annual', 'hourly']\n"
     ]
    }
   ],
   "source": [
    "# Each line after the first is either broad, medium, or narrow.\n",
    "# Also sum for each industry.\n",
    "# For the first attempt, just ignore the non-national data.\n",
    "# Descending order of size: Major, Minor, Broad, Detail.\n",
    "import csv\n",
    "with open(\"test_data.csv\",'r') as f:\n",
    "    c=csv.reader(f)\n",
    "    l=list(c)\n",
    "print(l[0])"
   ]
  },
  {
   "cell_type": "code",
   "execution_count": 5,
   "metadata": {},
   "outputs": [
    {
     "data": {
      "text/plain": [
       "dict_keys(['naics', 'occ code', 'group', 'tot_emp', 'h_mean', ' a_mean ', 'h_pay_dist', 'a_pay_dist'])"
      ]
     },
     "execution_count": 5,
     "metadata": {},
     "output_type": "execute_result"
    }
   ],
   "source": [
    "d=dict()\n",
    "def get(i,count):\n",
    "    return [j[count] for j in i[1:]]\n",
    "d[l[0][3]]= get(l,3)  #naics\n",
    "d[l[0][6]]= get(l,6)  #occ code\n",
    "d[l[0][8]]= get(l,8)  #Group\n",
    "d[l[0][9]]= get(l,9)  #Total employment\n",
    "d[l[0][14]]=get(l,14) #Mean Hourly Pay\n",
    "d[l[0][15]]=get(l,15) #Mean Annual Pay\n",
    "d[\"h_pay_dist\"]=get(l,slice(17,22))\n",
    "d[\"a_pay_dist\"]=get(l,slice(22,27))\n",
    "\n",
    "d.keys()"
   ]
  },
  {
   "cell_type": "code",
   "execution_count": null,
   "metadata": {
    "collapsed": true
   },
   "outputs": [],
   "source": []
  }
 ],
 "metadata": {
  "kernelspec": {
   "display_name": "Python 3",
   "language": "python",
   "name": "python3"
  },
  "language_info": {
   "codemirror_mode": {
    "name": "ipython",
    "version": 3
   },
   "file_extension": ".py",
   "mimetype": "text/x-python",
   "name": "python",
   "nbconvert_exporter": "python",
   "pygments_lexer": "ipython3",
   "version": "3.6.1"
  }
 },
 "nbformat": 4,
 "nbformat_minor": 2
}
